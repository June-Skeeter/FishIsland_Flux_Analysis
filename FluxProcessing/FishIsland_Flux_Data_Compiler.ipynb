{
 "cells": [
  {
   "cell_type": "markdown",
   "metadata": {},
   "source": [
    "# This notebook compiles the Fish Island Data, does QA/QC filtering, and adds a custom variables, including a Day/Night parameter based on sun angle"
   ]
  },
  {
   "cell_type": "code",
   "execution_count": 1,
   "metadata": {
    "scrolled": false
   },
   "outputs": [
    {
     "name": "stdout",
     "output_type": "stream",
     "text": [
      "QC Filter Removal:\n",
      " co2_flux    0.045883\n",
      "ch4_flux    0.108497\n",
      "dtype: float64\n",
      "Rain Filter Removal:\n",
      " co2_flux    0.000000\n",
      "ch4_flux    0.002179\n",
      "dtype: float64\n",
      "ch4_noSSFilter    2041\n",
      "ch4_flux          2041\n",
      "dtype: int64\n",
      "RSSI Filter Removal:\n",
      " co2_flux    0.000000\n",
      "ch4_flux    0.133333\n",
      "dtype: float64\n",
      "Wind Filter Removal:\n",
      " co2_flux    0.083281\n",
      "ch4_flux    0.071895\n",
      "dtype: float64\n",
      "Spike Filter Removal:\n",
      " co2_flux    0.041169\n",
      "ch4_flux    0.033115\n",
      "dtype: float64\n",
      "u* Filter Removal:\n",
      " co2_flux    0.043683\n",
      "ch4_flux    0.023094\n",
      "dtype: float64\n",
      "Final Sample Size\n",
      "fco2    2501\n",
      "fch4    1441\n",
      "dtype: int64\n"
     ]
    },
    {
     "name": "stderr",
     "output_type": "stream",
     "text": [
      "C:\\Users\\User\\FishIsland_Flux_Analysis\\FluxProcessing\\SunStatistics.py:25: RuntimeWarning: invalid value encountered in arccos\n",
      "  W2 = np.degrees(np.arccos(np.cos(np.radians(90.833))/(np.cos(np.radians(LAT))*np.cos(np.radians(T2)))-np.tan(np.radians(LAT))*np.tan(np.radians(T2)))) #HA Sunrise (deg)\n"
     ]
    }
   ],
   "source": [
    "import numpy as np\n",
    "import pandas as pd\n",
    "import datetime\n",
    "import Data_Processor as DP\n",
    "\n",
    "# D_path = 'C:/FishIsland_2017/'\n",
    "D_path = 'Data/'\n",
    "\n",
    "Out = 'G:/My Drive/FishIsland_Outputs/'\n",
    "\n",
    "FluxFolder='EddyPro_Output/'\n",
    "TenHz_Path = D_path+FluxFolder+'10Hz/eddypro_10Hz_full_output_2020-08-20T121146_exp.csv'\n",
    "OneHz_Path = D_path+FluxFolder+'1Hz/eddypro_1Hz_full_output_2020-08-20T183544_exp.csv'\n",
    "Met_Path = D_path+'CR1000_ClimateData.txt'\n",
    "Soil_Path = D_path+'Soil_Data.csv'\n",
    "PBLH = D_path+'NARR.csv'\n",
    "Comp = DP.Compile([TenHz_Path,OneHz_Path],Met_Path,Soil_Path,PBLH,\n",
    "                  Drop_Variables = [\n",
    "    'daytime','DOY','file_records','used_records','none_flux',\n",
    "    'qc_none_flux','none_v-adv','none_molar_density','none_mole_fraction' ,'none_mixing_ratio',\n",
    "    'none_time_lag','none_spikes','none_var','w/none_cov','x_peak','x_offset','x_10%','x_30%','x_50%','x_70%','x_90%']\n",
    "                 )\n",
    "Drop = [\n",
    "['2017-07-10 10:00:00','2017-07-10 15:00:00'],\n",
    "['2017-07-12 12:0:00','2017-07-12 14:00:00'],\n",
    "['2017-08-01 10:00:00','2017-08-01 14:00:00'],\n",
    "['2017-08-21 11:00:00','2017-08-21 14:00:00'],\n",
    "['2017-09-12 07:30:00','2017-09-12 15:00:00']\n",
    "       ]\n",
    "Comp.Date_Drop(Drop,'2017-06-23 00:00:00')    \n",
    "\n",
    "Comp.StorageCorrection()\n",
    "Comp.QC_Check(2)\n",
    "Rm1 = 1- Comp.Data[['co2_flux','ch4_flux']].count()/Comp.Data[['co2_raw','ch4_raw']].count().values\n",
    "print('QC Filter Removal:\\n',Rm1)\n",
    "Comp.Rain_Check([7,0])\n",
    "Rm2 = 1- Comp.Data[['co2_flux','ch4_flux']].count()/Comp.Data[['co2_raw','ch4_raw']].count().values\n",
    "print('Rain Filter Removal:\\n',Rm2-Rm1)\n",
    "Comp.Signal_Check(20)\n",
    "Rm3 = 1- Comp.Data[['co2_flux','ch4_flux']].count()/Comp.Data[['co2_raw','ch4_raw']].count().values\n",
    "print('RSSI Filter Removal:\\n',Rm3-Rm2)\n",
    "Comp.Wind_Filter(30,35+180)\n",
    "Rm4 = 1- Comp.Data[['co2_flux','ch4_flux']].count()/Comp.Data[['co2_raw','ch4_raw']].count().values\n",
    "print('Wind Filter Removal:\\n',Rm4-Rm3)\n",
    "Comp.Spike_Removal(z_thresh=4)\n",
    "Rm5 = 1- Comp.Data[['co2_flux','ch4_flux']].count()/Comp.Data[['co2_raw','ch4_raw']].count().values\n",
    "print('Spike Filter Removal:\\n',Rm5-Rm4)\n",
    "Comp.Ustar_Drop(Override=.1)\n",
    "Rm6 = 1- Comp.Data[['co2_flux','ch4_flux']].count()/Comp.Data[['co2_raw','ch4_raw']].count().values\n",
    "print('u* Filter Removal:\\n',Rm6-Rm5)\n",
    "Comp.Wind_Bins(30)\n",
    "\n",
    "Comp.CustomVars(LAT = 69.371182,LON = -134.880935,TZ = -6,Zm=2.87)\n",
    "\n",
    "# Data = Comp.Data.copy()\n",
    "\n",
    "print('Final Sample Size')\n",
    "\n",
    "print(Data[['fco2','fch4']].count())"
   ]
  },
  {
   "cell_type": "markdown",
   "metadata": {},
   "source": [
    "# Add day/night parameter and Save"
   ]
  },
  {
   "cell_type": "code",
   "execution_count": 4,
   "metadata": {},
   "outputs": [
    {
     "name": "stdout",
     "output_type": "stream",
     "text": [
      "Number of Records:  (3962, 306)\n",
      "Done\n"
     ]
    }
   ],
   "source": [
    "print('Number of Records: ',Comp.Data.shape)\n",
    "\n",
    "\n",
    "File_Name = 'FI_Data_2017_PostProcessing.csv'\n",
    "Data.to_csv(D_path+File_Name)\n",
    "print('Done')"
   ]
  },
  {
   "cell_type": "code",
   "execution_count": null,
   "metadata": {},
   "outputs": [],
   "source": []
  }
 ],
 "metadata": {
  "kernelspec": {
   "display_name": "Python 3 (ipykernel)",
   "language": "python",
   "name": "python3"
  },
  "language_info": {
   "codemirror_mode": {
    "name": "ipython",
    "version": 3
   },
   "file_extension": ".py",
   "mimetype": "text/x-python",
   "name": "python",
   "nbconvert_exporter": "python",
   "pygments_lexer": "ipython3",
   "version": "3.8.10"
  }
 },
 "nbformat": 4,
 "nbformat_minor": 2
}
