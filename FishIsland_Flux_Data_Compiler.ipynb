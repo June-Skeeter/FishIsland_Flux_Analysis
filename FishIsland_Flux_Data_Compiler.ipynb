{
 "cells": [
  {
   "cell_type": "markdown",
   "metadata": {},
   "source": [
    "# This notebook compiles the Fish Island Data, does QA/QC filtering, and adds custom variables"
   ]
  },
  {
   "cell_type": "code",
   "execution_count": 2,
   "metadata": {
    "scrolled": false
   },
   "outputs": [
    {
     "name": "stdout",
     "output_type": "stream",
     "text": [
      "QC Filter Removal:\n",
      " co2_flux    0.045883\n",
      "ch4_flux    0.108497\n",
      "dtype: float64\n",
      "Rain Filter Removal:\n",
      " co2_flux    0.000000\n",
      "ch4_flux    0.002179\n",
      "dtype: float64\n",
      "ch4_noSSFilter    2041\n",
      "ch4_flux          2041\n",
      "dtype: int64\n",
      "RSSI Filter Removal:\n",
      " co2_flux    0.000000\n",
      "ch4_flux    0.133333\n",
      "dtype: float64\n",
      "Wind Filter Removal:\n",
      " co2_flux    0.083281\n",
      "ch4_flux    0.071895\n",
      "dtype: float64\n",
      "Spike Filter Removal:\n",
      " co2_flux    0.041169\n",
      "ch4_flux    0.033115\n",
      "dtype: float64\n",
      "u* Filter Removal:\n",
      " co2_flux    0.043683\n",
      "ch4_flux    0.023094\n",
      "dtype: float64\n",
      "Final Sample Size\n",
      "fco2    2501\n",
      "fch4    1441\n",
      "dtype: int64\n"
     ]
    }
   ],
   "source": [
    "import numpy as np\n",
    "import pandas as pd\n",
    "import datetime\n",
    "import Data_Processor as DP\n",
    "import SunStatistics as SS\n",
    "\n",
    "Root = 'C:/FishIsland_2017/'\n",
    "\n",
    "Out = 'G:/My Drive/FishIsland_Outputs/'\n",
    "\n",
    "FluxFolder='FluxResults/Outputs/'\n",
    "TenHz_Path = Root+FluxFolder+'10Hz/eddypro_10Hz_full_output_2020-08-20T121146_exp.csv'\n",
    "OneHz_Path = Root+FluxFolder+'1Hz/eddypro_1Hz_full_output_2020-08-20T183544_exp.csv'\n",
    "Met_Path = Root+'MetStationData/CR1000_ClimateData.txt'\n",
    "Soil_Path = Root+'SoilStationData/Soil_Data.csv'\n",
    "Comp = DP.Compile([TenHz_Path,OneHz_Path],Met_Path,Soil_Path,#Daytime,Taglu_Data,NARRData,\n",
    "                  Drop_Variables = ['daytime','none_flux','qc_none_flux','none_v-adv','none_molar_density',\n",
    "                    'none_mole_fraction' ,'none_mixing_ratio','none_time_lag','none_spikes',\n",
    "                    'none_var','w/none_cov','x_peak','x_offset','x_10%','x_30%','x_50%','x_70%','x_90%'])\n",
    "Drop = [\n",
    "['2017-07-10 10:00:00','2017-07-10 15:00:00'],\n",
    "['2017-07-12 12:0:00','2017-07-12 14:00:00'],\n",
    "['2017-08-01 10:00:00','2017-08-01 14:00:00'],\n",
    "['2017-08-21 11:00:00','2017-08-21 14:00:00'],\n",
    "['2017-09-12 07:30:00','2017-09-12 15:00:00']\n",
    "       ]\n",
    "Comp.Date_Drop(Drop,'2017-06-23 00:00:00')    \n",
    "\n",
    "Comp.StorageCorrection()\n",
    "Comp.QC_Check(2)\n",
    "Rm1 = 1- Comp.Data[['co2_flux','ch4_flux']].count()/Comp.Data[['co2_raw','ch4_raw']].count().values\n",
    "print('QC Filter Removal:\\n',Rm1)\n",
    "Comp.Rain_Check([7,0])\n",
    "Rm2 = 1- Comp.Data[['co2_flux','ch4_flux']].count()/Comp.Data[['co2_raw','ch4_raw']].count().values\n",
    "print('Rain Filter Removal:\\n',Rm2-Rm1)\n",
    "Comp.Signal_Check(20)\n",
    "Rm3 = 1- Comp.Data[['co2_flux','ch4_flux']].count()/Comp.Data[['co2_raw','ch4_raw']].count().values\n",
    "print('RSSI Filter Removal:\\n',Rm3-Rm2)\n",
    "Comp.Wind_Filter(30,35+180)\n",
    "Rm4 = 1- Comp.Data[['co2_flux','ch4_flux']].count()/Comp.Data[['co2_raw','ch4_raw']].count().values\n",
    "print('Wind Filter Removal:\\n',Rm4-Rm3)\n",
    "Comp.Spike_Removal(z_thresh=4)\n",
    "Rm5 = 1- Comp.Data[['co2_flux','ch4_flux']].count()/Comp.Data[['co2_raw','ch4_raw']].count().values\n",
    "print('Spike Filter Removal:\\n',Rm5-Rm4)\n",
    "Comp.Ustar_Drop(Override=.1)\n",
    "Rm6 = 1- Comp.Data[['co2_flux','ch4_flux']].count()/Comp.Data[['co2_raw','ch4_raw']].count().values\n",
    "print('u* Filter Removal:\\n',Rm6-Rm5)\n",
    "Comp.Wind_Bins(30)\n",
    "Comp.CustomVars()\n",
    "\n",
    "Data = Comp.Data.copy()\n",
    "Data['Zm'] = 2.87\n",
    "Data['Z0'] = Data['Zm']*np.exp(-.41*Data['wind_speed']/Data['u*'])\n",
    "\n",
    "Data['Temp_15'] = Data[['Temp_15_1','Temp_15_2']].mean()\n",
    "\n",
    "Data.index.name='datetime'\n",
    "\n",
    "print('Final Sample Size')\n",
    "\n",
    "print(Data[['fco2','fch4']].count())"
   ]
  },
  {
   "cell_type": "markdown",
   "metadata": {},
   "source": [
    "# Add day/night parameter and Save"
   ]
  },
  {
   "cell_type": "code",
   "execution_count": 3,
   "metadata": {},
   "outputs": [
    {
     "name": "stderr",
     "output_type": "stream",
     "text": [
      "C:\\Users\\wesle\\Thesis_Code\\SunStatistics.py:25: RuntimeWarning: invalid value encountered in arccos\n",
      "  W2 = np.degrees(np.arccos(np.cos(np.radians(90.833))/(np.cos(np.radians(LAT))*np.cos(np.radians(T2)))-np.tan(np.radians(LAT))*np.tan(np.radians(T2)))) #HA Sunrise (deg)\n"
     ]
    },
    {
     "name": "stdout",
     "output_type": "stream",
     "text": [
      "Bright Nights: 4\n"
     ]
    }
   ],
   "source": [
    "LAT = 69.371182\n",
    "LON = -134.880935\n",
    "TZ = -6\n",
    "\n",
    "Temp = Data[['DOY']].resample('5T').asfreq()\n",
    "# Temp\n",
    "\n",
    "D = Temp.index.floor('D').to_julian_date()#+.5\n",
    "T = Temp.index.hour/24\n",
    "A = np.ones(D.shape[0])\n",
    "\n",
    "Zenith,Angle,Angle_Corr,Azimuth,Sunrise,Sunset=SS.SunStats(LAT*A,LON*A,D.values,T.values,TZ*A)\n",
    "Temp['Sun_Angle'] = Angle_Corr\n",
    "Temp = Temp.resample('30T').mean()\n",
    "try:\n",
    "    Data = Data.drop(columns=['Sun_Angle'])\n",
    "except:\n",
    "    pass\n",
    "Data = Data.join(Temp[['Sun_Angle']])\n",
    "\n",
    "Data['Daytime']=0\n",
    "Data.loc[Data['Sun_Angle']>-0.5,'Daytime']=1\n",
    "print('Bright Nights:',Data.loc[((Data.Daytime==0)&(Data.PPFD_Avg>10)),'PPFD_Avg'].count())\n",
    "Data.loc[((Data.Daytime==0)&(Data.PPFD_Avg>10)),'Daytime']=1\n",
    "\n",
    "File_Name = 'FI_Data_'+str(datetime.datetime.now()).split(' ')[0]+'.csv'\n",
    "Data.to_csv(Out+File_Name)"
   ]
  },
  {
   "cell_type": "code",
   "execution_count": 5,
   "metadata": {},
   "outputs": [
    {
     "data": {
      "text/plain": [
       "datetime\n",
       "0      115.043125\n",
       "1       66.928125\n",
       "2       38.233125\n",
       "3       28.540938\n",
       "4       33.716813\n",
       "5       54.883125\n",
       "6      103.795000\n",
       "7      150.876875\n",
       "8      250.512500\n",
       "9      400.431250\n",
       "10     512.637500\n",
       "11     662.656250\n",
       "12     911.731250\n",
       "13    1086.106250\n",
       "14    1135.831250\n",
       "15    1163.437500\n",
       "16    1153.275000\n",
       "17    1064.250000\n",
       "18     964.162500\n",
       "19     837.068750\n",
       "20     677.006250\n",
       "21     501.031250\n",
       "22     355.512500\n",
       "23     243.660000\n",
       "Name: PPFD_Avg, dtype: float64"
      ]
     },
     "execution_count": 5,
     "metadata": {},
     "output_type": "execute_result"
    }
   ],
   "source": [
    "F = Data.loc[Data.index.month==6]\n",
    "F.groupby(F.index.hour)['PPFD_Avg'].mean()"
   ]
  }
 ],
 "metadata": {
  "kernelspec": {
   "display_name": "Python 3",
   "language": "python",
   "name": "python3"
  },
  "language_info": {
   "codemirror_mode": {
    "name": "ipython",
    "version": 3
   },
   "file_extension": ".py",
   "mimetype": "text/x-python",
   "name": "python",
   "nbconvert_exporter": "python",
   "pygments_lexer": "ipython3",
   "version": "3.7.6"
  }
 },
 "nbformat": 4,
 "nbformat_minor": 2
}
